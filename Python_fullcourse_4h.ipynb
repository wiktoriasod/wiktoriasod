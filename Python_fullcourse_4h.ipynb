{
  "nbformat": 4,
  "nbformat_minor": 0,
  "metadata": {
    "colab": {
      "provenance": [],
      "authorship_tag": "ABX9TyMOl1RJN2MkgwNfJZYypiLn",
      "include_colab_link": true
    },
    "kernelspec": {
      "name": "python3",
      "display_name": "Python 3"
    },
    "language_info": {
      "name": "python"
    }
  },
  "cells": [
    {
      "cell_type": "markdown",
      "metadata": {
        "id": "view-in-github",
        "colab_type": "text"
      },
      "source": [
        "<a href=\"https://colab.research.google.com/github/wiktoriasod/wiktoriasod/blob/main/Python_fullcourse_4h.ipynb\" target=\"_parent\"><img src=\"https://colab.research.google.com/assets/colab-badge.svg\" alt=\"Open In Colab\"/></a>"
      ]
    },
    {
      "cell_type": "markdown",
      "source": [
        "**skróty klawiszowe**\n",
        "strzałki - poruszanie się po komórkach\n",
        "Enter - wejście do komórki\n",
        "Esc - wyjście z komórki\n",
        "\n",
        "Ctrl+/ - zamień linijkę w komentarz\n",
        "Ctrl+Alt+M - dodaj nowy komentarz\n",
        "Ctrl+M Y convert to code cell\n",
        "Ctrl+M M convert to text cell\n",
        "Ctrl+M O show/hide output\n",
        "Ctr+M reset session\n",
        "Ctrl+F9 run all the cells"
      ],
      "metadata": {
        "id": "0W8tVIsvtPvA"
      }
    },
    {
      "cell_type": "markdown",
      "source": [
        "\\ [backslash] the escape character - tells python that whatever character goes after it we want to take it"
      ],
      "metadata": {
        "id": "jb8mFzw4iRtR"
      }
    },
    {
      "cell_type": "code",
      "execution_count": 11,
      "metadata": {
        "colab": {
          "base_uri": "https://localhost:8080/",
          "height": 70
        },
        "id": "J3VGTC17hl0i",
        "outputId": "c7f0520e-eace-4df6-cf1b-5c3f9ce73fdb"
      },
      "outputs": [
        {
          "output_type": "stream",
          "name": "stdout",
          "text": [
            "The title of one of my most favourite books is \"Process\"\n",
            "university of copenhagen\n"
          ]
        },
        {
          "output_type": "execute_result",
          "data": {
            "text/plain": [
              "'University of Roskilde'"
            ],
            "application/vnd.google.colaboratory.intrinsic+json": {
              "type": "string"
            }
          },
          "metadata": {},
          "execution_count": 11
        }
      ],
      "source": [
        "print(\"The title of one of my most favourite books is \\\"Process\\\"\")\n",
        "phrase = \"University of Copenhagen\"\n",
        "print(phrase.lower())\n",
        "phrase.upper()\n",
        "phrase.isupper()\n",
        "phrase.islower()\n",
        "len(phrase)\n",
        "phrase[0]\n",
        "phrase.index(\"g\")\n",
        "phrase.replace(\"Copenhagen\", \"Roskilde\")#two parameters\n",
        "\n",
        "#other functions\n",
        "# https://www.w3schools.com/python/python_ref_string.asp"
      ]
    },
    {
      "cell_type": "code",
      "source": [
        "#numbers\n",
        "print(10 % 3)\n",
        "my_number = 5\n",
        "print(str(my_number) + \" and now I can add text with it\")\n",
        "pow(3,2)\n",
        "abs(my_number) #absolute value\n",
        "max(9,10)\n",
        "min(4,10)\n",
        "round(3.2)\n",
        "\n",
        "from math import *\n",
        "floor(3.7)\n",
        "ceil(3.7)\n",
        "sqrt(9)"
      ],
      "metadata": {
        "colab": {
          "base_uri": "https://localhost:8080/"
        },
        "id": "SJ6tPNa4tkPh",
        "outputId": "8705c5ec-706c-4331-d0e1-9246481bb655"
      },
      "execution_count": 19,
      "outputs": [
        {
          "output_type": "stream",
          "name": "stdout",
          "text": [
            "1\n",
            "5 and now I can add text with it\n"
          ]
        },
        {
          "output_type": "execute_result",
          "data": {
            "text/plain": [
              "3.0"
            ]
          },
          "metadata": {},
          "execution_count": 19
        }
      ]
    },
    {
      "cell_type": "code",
      "source": [
        "#getting input from user\n",
        "name = input(\"enter your name\") # hey, we want to take input from the user\n",
        "age = input(\"Enter your age\")\n",
        "print(\"hello \"+ name + \"!\" + \"you are \"+ age)"
      ],
      "metadata": {
        "colab": {
          "base_uri": "https://localhost:8080/"
        },
        "id": "nDF7950Syrv5",
        "outputId": "0d58797f-6eb7-403e-b5ef-795f384c6a71"
      },
      "execution_count": 21,
      "outputs": [
        {
          "output_type": "stream",
          "name": "stdout",
          "text": [
            "enter your namewik\n",
            "Enter your age26\n",
            "hello wik!you are 26\n"
          ]
        }
      ]
    },
    {
      "cell_type": "markdown",
      "source": [
        "dodać file - save in github\n"
      ],
      "metadata": {
        "id": "4tMJXhd-zVoe"
      }
    },
    {
      "cell_type": "code",
      "source": [
        "#basic calculator\n",
        "num1 = input(\"Enter a number\") #no matter what this is string for python\n",
        "num2 = input(\"enter another number\")\n",
        "# int(string)\n",
        "result = float(num1) + float(num2)\n",
        "print(result)"
      ],
      "metadata": {
        "colab": {
          "base_uri": "https://localhost:8080/"
        },
        "id": "SSpK8erlzZXc",
        "outputId": "a7351ed3-5c1b-4083-e916-9a28a988a5d7"
      },
      "execution_count": 24,
      "outputs": [
        {
          "output_type": "stream",
          "name": "stdout",
          "text": [
            "Enter a number4\n",
            "enter another number4.5\n",
            "8.5\n"
          ]
        }
      ]
    },
    {
      "cell_type": "code",
      "source": [],
      "metadata": {
        "id": "Q1sYLqjuBE7l"
      },
      "execution_count": null,
      "outputs": []
    }
  ]
}